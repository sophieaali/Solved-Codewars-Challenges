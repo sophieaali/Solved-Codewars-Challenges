{
 "cells": [
  {
   "cell_type": "markdown",
   "id": "f4b2be2c",
   "metadata": {},
   "source": [
    "ISBN-10 identifiers are ten digits long. The first nine characters are digits 0-9. The last digit can be 0-9 or X, to indicate a value of 10.\n",
    "\n",
    "An ISBN-10 number is valid if the sum of the digits multiplied by their position modulo 11 equals zero.\n",
    "\n",
    "For example:\n",
    "\n",
    "ISBN     : 1 1 1 2 2 2 3 3 3  9\n",
    "position : 1 2 3 4 5 6 7 8 9 10\n",
    "This is a valid ISBN, because:\n",
    "\n",
    "(1*1 + 1*2 + 1*3 + 2*4 + 2*5 + 2*6 + 3*7 + 3*8 + 3*9 + 9*10) % 11 = 0\n",
    "Examples\n",
    "1112223339   -->  true\n",
    "111222333    -->  false\n",
    "1112223339X  -->  false\n",
    "1234554321   -->  true\n",
    "1234512345   -->  false\n",
    "048665088X   -->  true\n",
    "X123456788   -->  false\n",
    "\n",
    "https://www.codewars.com/kata/51fc12de24a9d8cb0e000001"
   ]
  },
  {
   "cell_type": "code",
   "execution_count": 123,
   "id": "a82baf1e",
   "metadata": {},
   "outputs": [],
   "source": [
    "def valid_ISBN10(isbn):\n",
    "    import re\n",
    "    if (len(isbn) == 10) and (all([True if x in '0123456789' else False for x in isbn[:-1]])) and (isbn[-1] in '0123456789X'):\n",
    "        result = 0\n",
    "        for idx, num in enumerate(isbn, start=1):\n",
    "            try:\n",
    "                result += idx*int(num)\n",
    "            except ValueError:\n",
    "                result += idx*10\n",
    "    \n",
    "        return result%11 == 0\n",
    "    else:\n",
    "        return False"
   ]
  },
  {
   "cell_type": "code",
   "execution_count": 124,
   "id": "3b8ebf7f",
   "metadata": {},
   "outputs": [
    {
     "data": {
      "text/plain": [
       "False"
      ]
     },
     "execution_count": 124,
     "metadata": {},
     "output_type": "execute_result"
    }
   ],
   "source": [
    "isbn = 'X123456788'  # -->  false\n",
    "\n",
    "valid_ISBN10(isbn)"
   ]
  },
  {
   "cell_type": "code",
   "execution_count": 104,
   "id": "66e054cb",
   "metadata": {},
   "outputs": [
    {
     "data": {
      "text/plain": [
       "False"
      ]
     },
     "execution_count": 104,
     "metadata": {},
     "output_type": "execute_result"
    }
   ],
   "source": [
    "isbn = '123456789T'  # -->  false\n",
    "\n",
    "valid_ISBN10(isbn)"
   ]
  },
  {
   "cell_type": "code",
   "execution_count": 96,
   "id": "6afdca63",
   "metadata": {},
   "outputs": [
    {
     "data": {
      "text/plain": [
       "True"
      ]
     },
     "execution_count": 96,
     "metadata": {},
     "output_type": "execute_result"
    }
   ],
   "source": [
    "isbn = '1112223339'  # -->  true\n",
    "\n",
    "valid_ISBN10(isbn)"
   ]
  },
  {
   "cell_type": "code",
   "execution_count": 97,
   "id": "967912ca",
   "metadata": {},
   "outputs": [
    {
     "data": {
      "text/plain": [
       "False"
      ]
     },
     "execution_count": 97,
     "metadata": {},
     "output_type": "execute_result"
    }
   ],
   "source": [
    "isbn = '111222333'  #  -->  false\n",
    "\n",
    "valid_ISBN10(isbn)"
   ]
  },
  {
   "cell_type": "code",
   "execution_count": 98,
   "id": "57cc4311",
   "metadata": {},
   "outputs": [
    {
     "data": {
      "text/plain": [
       "False"
      ]
     },
     "execution_count": 98,
     "metadata": {},
     "output_type": "execute_result"
    }
   ],
   "source": [
    "isbn = '1112223339X' # -->  false\n",
    "\n",
    "valid_ISBN10(isbn)"
   ]
  },
  {
   "cell_type": "code",
   "execution_count": 99,
   "id": "f9d014b9",
   "metadata": {},
   "outputs": [
    {
     "data": {
      "text/plain": [
       "True"
      ]
     },
     "execution_count": 99,
     "metadata": {},
     "output_type": "execute_result"
    }
   ],
   "source": [
    "isbn = '1234554321'  # -->  true\n",
    "\n",
    "valid_ISBN10(isbn)"
   ]
  },
  {
   "cell_type": "code",
   "execution_count": 100,
   "id": "1fbce23a",
   "metadata": {},
   "outputs": [
    {
     "data": {
      "text/plain": [
       "False"
      ]
     },
     "execution_count": 100,
     "metadata": {},
     "output_type": "execute_result"
    }
   ],
   "source": [
    "isbn = '1234512345'  # -->  false\n",
    "\n",
    "valid_ISBN10(isbn)"
   ]
  },
  {
   "cell_type": "code",
   "execution_count": 107,
   "id": "8cbd10ce",
   "metadata": {},
   "outputs": [
    {
     "data": {
      "text/plain": [
       "True"
      ]
     },
     "execution_count": 107,
     "metadata": {},
     "output_type": "execute_result"
    }
   ],
   "source": [
    "isbn = '048665088X'  # -->  true\n",
    "\n",
    "valid_ISBN10(isbn)"
   ]
  },
  {
   "cell_type": "code",
   "execution_count": 102,
   "id": "aa01b723",
   "metadata": {},
   "outputs": [
    {
     "data": {
      "text/plain": [
       "True"
      ]
     },
     "execution_count": 102,
     "metadata": {},
     "output_type": "execute_result"
    }
   ],
   "source": [
    "isbn = 'X123456788'  # -->  false\n",
    "\n",
    "valid_ISBN10(isbn)"
   ]
  },
  {
   "cell_type": "code",
   "execution_count": null,
   "id": "db17b72e",
   "metadata": {},
   "outputs": [],
   "source": []
  },
  {
   "cell_type": "code",
   "execution_count": 141,
   "id": "7be1d17e",
   "metadata": {},
   "outputs": [
    {
     "name": "stdout",
     "output_type": "stream",
     "text": [
      "True\n",
      "False\n",
      "False\n",
      "True\n",
      "False\n",
      "True\n",
      "False\n",
      "False\n"
     ]
    }
   ],
   "source": [
    "# another (much shorter) solution \n",
    "import re\n",
    "\n",
    "def valid_ISBN10(isbn):\n",
    "    return (len(isbn)==10) and (bool(re.match('^\\d{9}[\\dX]', isbn))) and (sum(i*10 if n=='X' else i * int(n) for i, n in enumerate(isbn, start=1))%11 == 0)\n",
    "\n",
    "isbn = '1112223339'   #-->  true\n",
    "print(valid_ISBN10(isbn))\n",
    "isbn = '111222333'    #-->  false\n",
    "print(valid_ISBN10(isbn))\n",
    "isbn = '1112223339X'  #-->  false\n",
    "print(valid_ISBN10(isbn))\n",
    "isbn = '1234554321'   #-->  true\n",
    "print(valid_ISBN10(isbn))\n",
    "isbn = '1234512345'   #-->  false\n",
    "print(valid_ISBN10(isbn))\n",
    "isbn = '048665088X'   #-->  true\n",
    "print(valid_ISBN10(isbn))\n",
    "isbn = 'X123456788'   #-->  false\n",
    "print(valid_ISBN10(isbn))\n",
    "\n",
    "isbn = '123456789T'   #-->  false\n",
    "print(valid_ISBN10(isbn))"
   ]
  },
  {
   "cell_type": "code",
   "execution_count": null,
   "id": "e2baeb60",
   "metadata": {},
   "outputs": [],
   "source": []
  }
 ],
 "metadata": {
  "kernelspec": {
   "display_name": "Python 3 (ipykernel)",
   "language": "python",
   "name": "python3"
  },
  "language_info": {
   "codemirror_mode": {
    "name": "ipython",
    "version": 3
   },
   "file_extension": ".py",
   "mimetype": "text/x-python",
   "name": "python",
   "nbconvert_exporter": "python",
   "pygments_lexer": "ipython3",
   "version": "3.9.7"
  }
 },
 "nbformat": 4,
 "nbformat_minor": 5
}
