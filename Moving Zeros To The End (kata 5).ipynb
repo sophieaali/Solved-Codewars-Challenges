{
 "cells": [
  {
   "cell_type": "markdown",
   "id": "3df4b7d4",
   "metadata": {},
   "source": [
    "Write an algorithm that takes an array and moves all of the zeros to the end, preserving the order of the other elements.\n",
    "\n",
    "move_zeros([1, 0, 1, 2, 0, 1, 3]) # returns [1, 1, 2, 1, 3, 0, 0]\n",
    "\n",
    "https://www.codewars.com/kata/52597aa56021e91c93000cb0/python"
   ]
  },
  {
   "cell_type": "code",
   "execution_count": 1,
   "id": "eb4e6962",
   "metadata": {},
   "outputs": [],
   "source": [
    "test_list = [1, 0, 1, 2, 0, 1, 3]"
   ]
  },
  {
   "cell_type": "code",
   "execution_count": 2,
   "id": "2a472213",
   "metadata": {},
   "outputs": [
    {
     "data": {
      "text/plain": [
       "2"
      ]
     },
     "execution_count": 2,
     "metadata": {},
     "output_type": "execute_result"
    }
   ],
   "source": [
    "test_list.count(0)"
   ]
  },
  {
   "cell_type": "code",
   "execution_count": 3,
   "id": "4659f207",
   "metadata": {},
   "outputs": [
    {
     "data": {
      "text/plain": [
       "0"
      ]
     },
     "execution_count": 3,
     "metadata": {},
     "output_type": "execute_result"
    }
   ],
   "source": [
    "test_list.pop(test_list.index(0))"
   ]
  },
  {
   "cell_type": "code",
   "execution_count": 4,
   "id": "4af4a405",
   "metadata": {},
   "outputs": [
    {
     "data": {
      "text/plain": [
       "[1, 1, 2, 1, 3, 0]"
      ]
     },
     "execution_count": 4,
     "metadata": {},
     "output_type": "execute_result"
    }
   ],
   "source": [
    "for i in range(test_list.count(0)):\n",
    "    test_list.append(test_list.pop(test_list.index(0)))\n",
    "    \n",
    "test_list"
   ]
  },
  {
   "cell_type": "code",
   "execution_count": 5,
   "id": "4196db3f",
   "metadata": {},
   "outputs": [],
   "source": [
    "# Final Function\n",
    "def move_zeros(lst):\n",
    "    for i in range(lst.count(0)):\n",
    "        lst.append(lst.pop(lst.index(0)))\n",
    "    \n",
    "    return lst"
   ]
  },
  {
   "cell_type": "code",
   "execution_count": 6,
   "id": "11661919",
   "metadata": {},
   "outputs": [
    {
     "data": {
      "text/plain": [
       "[1, 1, 2, 1, 3, 0, 0]"
      ]
     },
     "execution_count": 6,
     "metadata": {},
     "output_type": "execute_result"
    }
   ],
   "source": [
    "move_zeros([1, 0, 1, 2, 0, 1, 3])"
   ]
  },
  {
   "cell_type": "code",
   "execution_count": null,
   "id": "237939fa",
   "metadata": {},
   "outputs": [],
   "source": []
  },
  {
   "cell_type": "code",
   "execution_count": null,
   "id": "0f9a2696",
   "metadata": {},
   "outputs": [],
   "source": []
  },
  {
   "cell_type": "code",
   "execution_count": 7,
   "id": "38e92103",
   "metadata": {},
   "outputs": [],
   "source": [
    "# My favourite solution from other coders\n",
    "\n",
    "def move_zeros(arr):\n",
    "    l = [i for i in arr if isinstance(i, bool) or i!=0]\n",
    "    return l+[0]*(len(arr)-len(l))"
   ]
  },
  {
   "cell_type": "code",
   "execution_count": 8,
   "id": "a752c91b",
   "metadata": {},
   "outputs": [
    {
     "name": "stdout",
     "output_type": "stream",
     "text": [
      "[1, 1, 2, 1, 3]\n",
      "[1, 1, 2, 1, 3, 0, 0]\n"
     ]
    }
   ],
   "source": [
    "test_list = [1, 0, 1, 2, 0, 1, 3]\n",
    "\n",
    "l = [i for i in test_list if i != 0]\n",
    "print(l)\n",
    "result = l + [0]* (len(test_list) - len(l))\n",
    "print(result)"
   ]
  },
  {
   "cell_type": "code",
   "execution_count": null,
   "id": "66c1f537",
   "metadata": {},
   "outputs": [],
   "source": []
  }
 ],
 "metadata": {
  "kernelspec": {
   "display_name": "Python 3 (ipykernel)",
   "language": "python",
   "name": "python3"
  },
  "language_info": {
   "codemirror_mode": {
    "name": "ipython",
    "version": 3
   },
   "file_extension": ".py",
   "mimetype": "text/x-python",
   "name": "python",
   "nbconvert_exporter": "python",
   "pygments_lexer": "ipython3",
   "version": "3.9.7"
  }
 },
 "nbformat": 4,
 "nbformat_minor": 5
}
