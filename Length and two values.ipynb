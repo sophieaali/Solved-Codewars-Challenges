{
 "cells": [
  {
   "cell_type": "markdown",
   "id": "f1bdc4c5",
   "metadata": {},
   "source": [
    "Given a number n and two values firstValue and secondValue, build an array of size n filled with firstValue and secondValue alternating.\n",
    "\n",
    "for input:                5, true, false :\n",
    "\n",
    "expected result would be: [true, false, true, false, true]\n",
    "\n",
    "Challenge link to description: https://www.codewars.com/kata/62a611067274990047f431a8"
   ]
  },
  {
   "cell_type": "code",
   "execution_count": 8,
   "id": "7a70b04b",
   "metadata": {},
   "outputs": [],
   "source": [
    "def alternate(n, first_value, second_value):\n",
    "    alternate_list = []\n",
    "    while len(alternate_list) < n:\n",
    "        if len(alternate_list) < n:\n",
    "            alternate_list.append(first_value)\n",
    "            if len(alternate_list) < n:\n",
    "                alternate_list.append(second_value)\n",
    "    return alternate_list"
   ]
  },
  {
   "cell_type": "code",
   "execution_count": 9,
   "id": "5e2256d7",
   "metadata": {},
   "outputs": [
    {
     "data": {
      "text/plain": [
       "['true', 'false', 'true', 'false', 'true']"
      ]
     },
     "execution_count": 9,
     "metadata": {},
     "output_type": "execute_result"
    }
   ],
   "source": [
    "alternate(5, 'true', 'false')"
   ]
  },
  {
   "cell_type": "code",
   "execution_count": 22,
   "id": "290cbdf8",
   "metadata": {},
   "outputs": [],
   "source": [
    "# second solution (my favorite from the other codewars solutions)\n",
    "\n",
    "def alternate_second_solution(n, first_value, second_value):\n",
    "    return [[first_value, second_value][i%2] for i in range(n)]"
   ]
  },
  {
   "cell_type": "code",
   "execution_count": 23,
   "id": "6b5f61ae",
   "metadata": {},
   "outputs": [
    {
     "data": {
      "text/plain": [
       "['x', 'y', 'x', 'y', 'x', 'y', 'x', 'y', 'x']"
      ]
     },
     "execution_count": 23,
     "metadata": {},
     "output_type": "execute_result"
    }
   ],
   "source": [
    "alternate_second_solution(9, 'x', 'y')"
   ]
  },
  {
   "cell_type": "code",
   "execution_count": null,
   "id": "b0929125",
   "metadata": {},
   "outputs": [],
   "source": []
  }
 ],
 "metadata": {
  "kernelspec": {
   "display_name": "Python 3 (ipykernel)",
   "language": "python",
   "name": "python3"
  },
  "language_info": {
   "codemirror_mode": {
    "name": "ipython",
    "version": 3
   },
   "file_extension": ".py",
   "mimetype": "text/x-python",
   "name": "python",
   "nbconvert_exporter": "python",
   "pygments_lexer": "ipython3",
   "version": "3.9.7"
  }
 },
 "nbformat": 4,
 "nbformat_minor": 5
}
