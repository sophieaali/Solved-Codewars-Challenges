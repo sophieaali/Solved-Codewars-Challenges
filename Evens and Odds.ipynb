{
 "cells": [
  {
   "cell_type": "raw",
   "id": "166466dd",
   "metadata": {},
   "source": [
    "This kata is about converting numbers to their binary or hexadecimal representation:\n",
    "\n",
    "If a number is even, convert it to binary.\n",
    "If a number is odd, convert it to hex.\n",
    "Numbers will be positive. The hexadecimal string should be lowercased.\n",
    "\n",
    "https://www.codewars.com/kata/583ade15666df5a64e000058/python\n",
    "Kata level 7"
   ]
  },
  {
   "cell_type": "code",
   "execution_count": 8,
   "id": "3da3e6b0",
   "metadata": {},
   "outputs": [],
   "source": [
    "# my own unique solution\n",
    "def evens_and_odds(n):\n",
    "    if n%2 == 1:\n",
    "        return hex(n).replace('0x','')\n",
    "    else:\n",
    "        return bin(n).replace('0b','')"
   ]
  },
  {
   "cell_type": "code",
   "execution_count": 9,
   "id": "d7a8ec10",
   "metadata": {},
   "outputs": [
    {
     "data": {
      "text/plain": [
       "'1010'"
      ]
     },
     "execution_count": 9,
     "metadata": {},
     "output_type": "execute_result"
    }
   ],
   "source": [
    "evens_and_odds(10)"
   ]
  },
  {
   "cell_type": "code",
   "execution_count": 10,
   "id": "1514434e",
   "metadata": {},
   "outputs": [
    {
     "data": {
      "text/plain": [
       "'b'"
      ]
     },
     "execution_count": 10,
     "metadata": {},
     "output_type": "execute_result"
    }
   ],
   "source": [
    "evens_and_odds(11)"
   ]
  },
  {
   "cell_type": "code",
   "execution_count": 12,
   "id": "bb1b20d1",
   "metadata": {},
   "outputs": [],
   "source": [
    "# my favorite solution from others\n",
    "\n",
    "def evens_and_odds_second_solution(n):\n",
    "    return hex(n)[2:] if n%2 else bin(n)[2:] "
   ]
  },
  {
   "cell_type": "code",
   "execution_count": 13,
   "id": "98b1ba06",
   "metadata": {},
   "outputs": [
    {
     "data": {
      "text/plain": [
       "'1010'"
      ]
     },
     "execution_count": 13,
     "metadata": {},
     "output_type": "execute_result"
    }
   ],
   "source": [
    "evens_and_odds_second_solution(10)"
   ]
  },
  {
   "cell_type": "code",
   "execution_count": 14,
   "id": "4fd41e70",
   "metadata": {},
   "outputs": [
    {
     "data": {
      "text/plain": [
       "'b'"
      ]
     },
     "execution_count": 14,
     "metadata": {},
     "output_type": "execute_result"
    }
   ],
   "source": [
    "evens_and_odds_second_solution(11)"
   ]
  },
  {
   "cell_type": "code",
   "execution_count": null,
   "id": "eb822381",
   "metadata": {},
   "outputs": [],
   "source": []
  }
 ],
 "metadata": {
  "kernelspec": {
   "display_name": "Python 3 (ipykernel)",
   "language": "python",
   "name": "python3"
  },
  "language_info": {
   "codemirror_mode": {
    "name": "ipython",
    "version": 3
   },
   "file_extension": ".py",
   "mimetype": "text/x-python",
   "name": "python",
   "nbconvert_exporter": "python",
   "pygments_lexer": "ipython3",
   "version": "3.9.7"
  }
 },
 "nbformat": 4,
 "nbformat_minor": 5
}
