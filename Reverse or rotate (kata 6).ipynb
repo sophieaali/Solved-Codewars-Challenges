{
 "cells": [
  {
   "cell_type": "raw",
   "id": "f67e94b3",
   "metadata": {},
   "source": [
    "The input is a string str of digits. Cut the string into chunks (a chunk here is a substring of the initial string) of size sz (ignore the last chunk if its size is less than sz).\n",
    "\n",
    "If a chunk represents an integer such that the sum (of the cubes) of its digits is divisible by 2, reverse that chunk; otherwise rotate it to the left by one position. Put together these modified chunks and return the result as a string.\n",
    "\n",
    "(there is a mistake in the description - we don't need to cube the digits)\n",
    "\n",
    "If\n",
    "\n",
    "sz is <= 0 or if str is empty return \"\"\n",
    "sz is greater (>) than the length of str it is impossible to take a chunk of size sz hence return \"\".\n",
    "Examples:\n",
    "revrot(\"123456987654\", 6) --> \"234561876549\"\n",
    "revrot(\"123456987653\", 6) --> \"234561356789\"\n",
    "revrot(\"66443875\", 4) --> \"44668753\"\n",
    "revrot(\"66443875\", 8) --> \"64438756\"\n",
    "revrot(\"664438769\", 8) --> \"67834466\"\n",
    "revrot(\"123456779\", 8) --> \"23456771\"\n",
    "revrot(\"\", 8) --> \"\"\n",
    "revrot(\"123456779\", 0) --> \"\" \n",
    "revrot(\"563000655734469485\", 4) --> \"0365065073456944\"\n",
    "Example of a string rotated to the left by one position:\n",
    "s = \"123456\" gives \"234561\"."
   ]
  },
  {
   "cell_type": "markdown",
   "id": "c5465026",
   "metadata": {},
   "source": [
    "https://www.codewars.com/kata/56b5afb4ed1f6d5fb0000991/python\n",
    "\n",
    "Kata level 6"
   ]
  },
  {
   "cell_type": "code",
   "execution_count": 64,
   "id": "b6de1f6c",
   "metadata": {},
   "outputs": [],
   "source": [
    "sz = 4\n",
    "strng = \"6644387579704\""
   ]
  },
  {
   "cell_type": "code",
   "execution_count": 115,
   "id": "3d255695",
   "metadata": {},
   "outputs": [
    {
     "name": "stdout",
     "output_type": "stream",
     "text": [
      "---------------------------------------- \n",
      "chunk: 6644\n",
      "chunk is divible by 2\n",
      "reversed chunk: 4466\n",
      "---------------------------------------- \n",
      "chunk: 3875\n",
      "chunk is not divisible by 2\n",
      "8753\n",
      "---------------------------------------- \n",
      "chunk: 7970\n",
      "chunk is not divisible by 2\n",
      "9707\n"
     ]
    },
    {
     "data": {
      "text/plain": [
       "'446687539707'"
      ]
     },
     "execution_count": 115,
     "metadata": {},
     "output_type": "execute_result"
    }
   ],
   "source": [
    "result = ''\n",
    "\n",
    "num_of_chunks = int(len(strng)/sz)\n",
    "for x in range(num_of_chunks):\n",
    "    # chunk the string by sz\n",
    "    chunk = strng[x*sz:sz*(x+1)]\n",
    "    print('-'*40, '\\nchunk:', chunk)\n",
    "    \n",
    "#     # cube each chunk\n",
    "#     cubed_chunk = 0\n",
    "#     for y in chunk:\n",
    "#         cubed_chunk += (int(y)**int(y))\n",
    "#     print('cubed_chunk:', cubed_chunk)\n",
    "\n",
    "# there is a mistake in the description - we don't need to cube the digits\n",
    "\n",
    "\n",
    "    sum_chunk = 0\n",
    "    for y in chunk:\n",
    "        sum_chunk += int(y) \n",
    "\n",
    "    # is the cubed chunk divisble by 2?\n",
    "    if sum_chunk % 2 == 0:\n",
    "        print('chunk is divible by 2')\n",
    "        # reverse the chunk\n",
    "        print('reversed chunk:', chunk[::-1])\n",
    "        result += chunk[::-1]\n",
    "    else:\n",
    "        print('chunk is not divisible by 2')\n",
    "        # rotate the chunk\n",
    "        print(chunk[1:]+chunk[0])\n",
    "        result += chunk[1:]+chunk[0]\n",
    "\n",
    "result"
   ]
  },
  {
   "cell_type": "code",
   "execution_count": 116,
   "id": "1819f11a",
   "metadata": {},
   "outputs": [],
   "source": [
    "# final function\n",
    "\n",
    "def revrot(strng, sz):\n",
    "    if sz > 0:\n",
    "        result = ''\n",
    "\n",
    "        num_of_chunks = int(len(strng)/sz)\n",
    "        for x in range(num_of_chunks):\n",
    "            # chunk the string by sz\n",
    "            chunk = strng[x*sz:sz*(x+1)]\n",
    "            print('-'*40, '\\nchunk:', chunk)\n",
    "\n",
    "            sum_chunk = 0\n",
    "            for y in chunk:\n",
    "                sum_chunk += int(y) \n",
    "\n",
    "            \n",
    "            if sum_chunk % 2 == 0:\n",
    "                print('chunk is divible by 2')\n",
    "                # reverse the chunk\n",
    "                print('reversed chunk:', chunk[::-1])\n",
    "                result += chunk[::-1]\n",
    "            else:\n",
    "                print('chunk is not divisible by 2')\n",
    "                # rotate the chunk\n",
    "                print(chunk[1:]+chunk[0])\n",
    "                result += chunk[1:]+chunk[0]\n",
    "\n",
    "        return result\n",
    "    else:\n",
    "        return ''"
   ]
  },
  {
   "cell_type": "code",
   "execution_count": 117,
   "id": "7bafa0a6",
   "metadata": {},
   "outputs": [
    {
     "name": "stdout",
     "output_type": "stream",
     "text": [
      "---------------------------------------- \n",
      "chunk: 123456\n",
      "chunk is not divisible by 2\n",
      "234561\n",
      "---------------------------------------- \n",
      "chunk: 987654\n",
      "chunk is not divisible by 2\n",
      "876549\n"
     ]
    },
    {
     "data": {
      "text/plain": [
       "'234561876549'"
      ]
     },
     "execution_count": 117,
     "metadata": {},
     "output_type": "execute_result"
    }
   ],
   "source": [
    "revrot(\"123456987654\", 6) \n",
    "#--> \"234561876549\""
   ]
  },
  {
   "cell_type": "code",
   "execution_count": 118,
   "id": "6e63e086",
   "metadata": {},
   "outputs": [
    {
     "name": "stdout",
     "output_type": "stream",
     "text": [
      "---------------------------------------- \n",
      "chunk: 123456\n",
      "chunk is not divisible by 2\n",
      "234561\n",
      "---------------------------------------- \n",
      "chunk: 987653\n",
      "chunk is divible by 2\n",
      "reversed chunk: 356789\n"
     ]
    },
    {
     "data": {
      "text/plain": [
       "'234561356789'"
      ]
     },
     "execution_count": 118,
     "metadata": {},
     "output_type": "execute_result"
    }
   ],
   "source": [
    "revrot(\"123456987653\", 6) \n",
    "#--> \"234561356789\""
   ]
  },
  {
   "cell_type": "code",
   "execution_count": 119,
   "id": "9c5124c6",
   "metadata": {},
   "outputs": [
    {
     "name": "stdout",
     "output_type": "stream",
     "text": [
      "---------------------------------------- \n",
      "chunk: 12345677\n",
      "chunk is not divisible by 2\n",
      "23456771\n"
     ]
    },
    {
     "data": {
      "text/plain": [
       "'23456771'"
      ]
     },
     "execution_count": 119,
     "metadata": {},
     "output_type": "execute_result"
    }
   ],
   "source": [
    "revrot(\"123456779\", 8)\n",
    "#--> \"23456771\""
   ]
  },
  {
   "cell_type": "code",
   "execution_count": 120,
   "id": "d253acc9",
   "metadata": {},
   "outputs": [
    {
     "data": {
      "text/plain": [
       "''"
      ]
     },
     "execution_count": 120,
     "metadata": {},
     "output_type": "execute_result"
    }
   ],
   "source": [
    "revrot(\"\", 8)\n",
    "#--> \"\""
   ]
  },
  {
   "cell_type": "code",
   "execution_count": 121,
   "id": "44f69f49",
   "metadata": {},
   "outputs": [
    {
     "data": {
      "text/plain": [
       "''"
      ]
     },
     "execution_count": 121,
     "metadata": {},
     "output_type": "execute_result"
    }
   ],
   "source": [
    "revrot(\"123456779\", 0)\n",
    "#--> \"\" "
   ]
  },
  {
   "cell_type": "code",
   "execution_count": 122,
   "id": "d3fbc71f",
   "metadata": {},
   "outputs": [
    {
     "name": "stdout",
     "output_type": "stream",
     "text": [
      "---------------------------------------- \n",
      "chunk: 5630\n",
      "chunk is divible by 2\n",
      "reversed chunk: 0365\n",
      "---------------------------------------- \n",
      "chunk: 0065\n",
      "chunk is not divisible by 2\n",
      "0650\n",
      "---------------------------------------- \n",
      "chunk: 5734\n",
      "chunk is not divisible by 2\n",
      "7345\n",
      "---------------------------------------- \n",
      "chunk: 4694\n",
      "chunk is not divisible by 2\n",
      "6944\n"
     ]
    },
    {
     "data": {
      "text/plain": [
       "'0365065073456944'"
      ]
     },
     "execution_count": 122,
     "metadata": {},
     "output_type": "execute_result"
    }
   ],
   "source": [
    "revrot(\"563000655734469485\", 4)\n",
    "#--> \"0365065073456944\""
   ]
  },
  {
   "cell_type": "code",
   "execution_count": null,
   "id": "bd18ac3b",
   "metadata": {},
   "outputs": [],
   "source": []
  },
  {
   "cell_type": "code",
   "execution_count": null,
   "id": "a21eba51",
   "metadata": {},
   "outputs": [],
   "source": []
  },
  {
   "cell_type": "code",
   "execution_count": null,
   "id": "d0f62a8f",
   "metadata": {},
   "outputs": [],
   "source": []
  },
  {
   "cell_type": "code",
   "execution_count": null,
   "id": "5f627dd7",
   "metadata": {},
   "outputs": [],
   "source": []
  },
  {
   "cell_type": "code",
   "execution_count": null,
   "id": "ad2ed31b",
   "metadata": {},
   "outputs": [],
   "source": []
  },
  {
   "cell_type": "code",
   "execution_count": 1,
   "id": "676c4537",
   "metadata": {},
   "outputs": [],
   "source": [
    "# my favourite solution from other coders\n",
    "\n",
    "def rev_rot(strng, sz):\n",
    "    if not sz or not strng:\n",
    "        return ''\n",
    "    strng = [strng[i:i+sz] for i in range(0, len(strng), sz) if len(strng[i:i+sz])==sz]\n",
    "    return ''.join(i[::-1] if sum(int(j)**3 for j in i)%2==0 else i[1:]+i[0] for i in strng)"
   ]
  },
  {
   "cell_type": "code",
   "execution_count": 2,
   "id": "6b011f00",
   "metadata": {},
   "outputs": [
    {
     "data": {
      "text/plain": [
       "'0365065073456944'"
      ]
     },
     "execution_count": 2,
     "metadata": {},
     "output_type": "execute_result"
    }
   ],
   "source": [
    "rev_rot(\"563000655734469485\", 4)\n",
    "#--> \"0365065073456944\""
   ]
  },
  {
   "cell_type": "code",
   "execution_count": 7,
   "id": "e98a18b6",
   "metadata": {},
   "outputs": [
    {
     "data": {
      "text/plain": [
       "True"
      ]
     },
     "execution_count": 7,
     "metadata": {},
     "output_type": "execute_result"
    }
   ],
   "source": [
    "sz=0\n",
    "not sz"
   ]
  },
  {
   "cell_type": "code",
   "execution_count": 24,
   "id": "4ec67496",
   "metadata": {},
   "outputs": [
    {
     "name": "stdout",
     "output_type": "stream",
     "text": [
      "0\n",
      "4\n",
      "8\n",
      "12\n",
      "16\n"
     ]
    }
   ],
   "source": [
    "strng = \"563000655734469485\"\n",
    "sz = 4\n",
    "for i in range(0, len(strng), sz):\n",
    "    print(i)"
   ]
  },
  {
   "cell_type": "code",
   "execution_count": 22,
   "id": "ef711a47",
   "metadata": {},
   "outputs": [
    {
     "name": "stdout",
     "output_type": "stream",
     "text": [
      "['5630', '0065', '5734', '4694']\n",
      "0365065073456944\n"
     ]
    }
   ],
   "source": [
    "strng = \"563000655734469485\"\n",
    "sz = 4\n",
    "strng = [strng[i:i+sz] for i in range(0, len(strng), sz) if len(strng[i:i+sz]) == sz]\n",
    "print(strng)\n",
    "print(''.join(i[::-1] if sum(int(j) for j in i)%2==0 else i[1:]+i[0] for i in strng))"
   ]
  },
  {
   "cell_type": "code",
   "execution_count": null,
   "id": "d6ea3cf1",
   "metadata": {},
   "outputs": [],
   "source": []
  }
 ],
 "metadata": {
  "kernelspec": {
   "display_name": "Python 3 (ipykernel)",
   "language": "python",
   "name": "python3"
  },
  "language_info": {
   "codemirror_mode": {
    "name": "ipython",
    "version": 3
   },
   "file_extension": ".py",
   "mimetype": "text/x-python",
   "name": "python",
   "nbconvert_exporter": "python",
   "pygments_lexer": "ipython3",
   "version": "3.9.7"
  }
 },
 "nbformat": 4,
 "nbformat_minor": 5
}
