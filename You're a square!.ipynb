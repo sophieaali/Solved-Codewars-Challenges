{
 "cells": [
  {
   "cell_type": "raw",
   "id": "682835a8",
   "metadata": {},
   "source": [
    "A square of squares\n",
    "You like building blocks. You especially like building blocks that are squares. And what you even like more, is to arrange them into a square of square building blocks!\n",
    "\n",
    "However, sometimes, you can't arrange them into a square. Instead, you end up with an ordinary rectangle! Those blasted things! If you just had a way to know, whether you're currently working in vain… Wait! That's it! You just have to check if your number of building blocks is a perfect square.\n",
    "\n",
    "Task\n",
    "Given an integral number, determine if it's a square number:\n",
    "\n",
    "In mathematics, a square number or perfect square is an integer that is the square of an integer; in other words, it is the product of some integer with itself.\n",
    "\n",
    "The tests will always use some integral number, so don't worry about that in dynamic typed languages.\n",
    "\n",
    "Examples\n",
    "-1  =>  false\n",
    " 0  =>  true\n",
    " 3  =>  false\n",
    " 4  =>  true\n",
    "25  =>  true\n",
    "26  =>  false"
   ]
  },
  {
   "cell_type": "code",
   "execution_count": 11,
   "id": "68b145a1",
   "metadata": {},
   "outputs": [],
   "source": [
    "def is_square(n):\n",
    "    import math\n",
    "    try:\n",
    "        return math.sqrt(n) % 1 == 0\n",
    "    except:\n",
    "        return False"
   ]
  },
  {
   "cell_type": "code",
   "execution_count": 19,
   "id": "316d16e1",
   "metadata": {},
   "outputs": [
    {
     "data": {
      "text/plain": [
       "False"
      ]
     },
     "execution_count": 19,
     "metadata": {},
     "output_type": "execute_result"
    }
   ],
   "source": [
    "is_square(-1)"
   ]
  },
  {
   "cell_type": "code",
   "execution_count": 17,
   "id": "df87cc47",
   "metadata": {},
   "outputs": [
    {
     "data": {
      "text/plain": [
       "True"
      ]
     },
     "execution_count": 17,
     "metadata": {},
     "output_type": "execute_result"
    }
   ],
   "source": [
    "is_square(25)"
   ]
  },
  {
   "cell_type": "code",
   "execution_count": 18,
   "id": "32a0a01d",
   "metadata": {},
   "outputs": [
    {
     "data": {
      "text/plain": [
       "False"
      ]
     },
     "execution_count": 18,
     "metadata": {},
     "output_type": "execute_result"
    }
   ],
   "source": [
    "is_square(26)"
   ]
  },
  {
   "cell_type": "code",
   "execution_count": 20,
   "id": "225c6423",
   "metadata": {},
   "outputs": [],
   "source": [
    "# my favorite from the other codewars solutions\n",
    "\n",
    "import math\n",
    "def is_square(n):\n",
    "    return n > -1 and math.sqrt(n) % 1 == 0"
   ]
  },
  {
   "cell_type": "code",
   "execution_count": null,
   "id": "165b6d4c",
   "metadata": {},
   "outputs": [],
   "source": []
  }
 ],
 "metadata": {
  "kernelspec": {
   "display_name": "Python 3 (ipykernel)",
   "language": "python",
   "name": "python3"
  },
  "language_info": {
   "codemirror_mode": {
    "name": "ipython",
    "version": 3
   },
   "file_extension": ".py",
   "mimetype": "text/x-python",
   "name": "python",
   "nbconvert_exporter": "python",
   "pygments_lexer": "ipython3",
   "version": "3.9.7"
  }
 },
 "nbformat": 4,
 "nbformat_minor": 5
}
