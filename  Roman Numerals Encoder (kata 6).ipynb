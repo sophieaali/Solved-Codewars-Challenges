{
 "cells": [
  {
   "cell_type": "raw",
   "id": "f2420216",
   "metadata": {},
   "source": [
    "Create a function taking a positive integer as its parameter and returning a string containing the Roman Numeral representation of that integer.\n",
    "\n",
    "Modern Roman numerals are written by expressing each digit separately starting with the left most digit and skipping any digit with a value of zero. In Roman numerals 1990 is rendered: 1000=M, 900=CM, 90=XC; resulting in MCMXC. 2008 is written as 2000=MM, 8=VIII; or MMVIII. 1666 uses each Roman symbol in descending order: MDCLXVI.\n",
    "\n",
    "Example:\n",
    "\n",
    "solution(1000) # should return 'M'\n",
    "Help:\n",
    "\n",
    "Symbol    Value\n",
    "I          1\n",
    "V          5\n",
    "X          10\n",
    "L          50\n",
    "C          100\n",
    "D          500\n",
    "M          1,000\n",
    "Remember that there can't be more than 3 identical symbols in a row.\n",
    "\n",
    "More about roman numerals - http://en.wikipedia.org/wiki/Roman_numerals"
   ]
  },
  {
   "cell_type": "code",
   "execution_count": 4,
   "id": "a22d1280",
   "metadata": {},
   "outputs": [],
   "source": [
    "roman_dict = {'1': 'I',\n",
    "              '2': 'II',\n",
    "              '3': 'III',\n",
    "              '4': 'IV',\n",
    "              '5': 'V',\n",
    "              '6': 'VI',\n",
    "              '7': 'VII',\n",
    "              '8': 'VIII',\n",
    "              '9': 'IX',\n",
    "              '10' : 'X',\n",
    "              '20' : 'XX',\n",
    "              '30' : 'XXX',\n",
    "              '40' : 'XL' ,\n",
    "              '50' : 'L', \n",
    "              '60' : 'LX' ,\n",
    "              '70' : 'LXX', \n",
    "              '80' : 'LXXX' ,\n",
    "              '90' : 'XC' ,\n",
    "              '100' : 'C',\n",
    "              '200' : 'CC',\n",
    "              '300' : 'CCC',\n",
    "              '400' : 'CD',\n",
    "              '500' : 'D',\n",
    "              '600' : 'DC',\n",
    "              '700' : 'DCC',\n",
    "              '800' : 'DCCC',\n",
    "              '900' : 'CM',\n",
    "              '1000' : 'M',\n",
    "              '2000' : 'MM',\n",
    "              '3000' : 'MMM'\n",
    "             }\n",
    "              "
   ]
  },
  {
   "cell_type": "code",
   "execution_count": 46,
   "id": "0e8f4ded",
   "metadata": {},
   "outputs": [
    {
     "name": "stdout",
     "output_type": "stream",
     "text": [
      "1000\n",
      "900\n",
      "90\n",
      "0\n"
     ]
    },
    {
     "data": {
      "text/plain": [
       "'MCMXC'"
      ]
     },
     "execution_count": 46,
     "metadata": {},
     "output_type": "execute_result"
    }
   ],
   "source": [
    "def solution(n):\n",
    "\n",
    "    roman_num = ''\n",
    "\n",
    "    for x in range(len(str(n))):\n",
    "    #     print(x)\n",
    "        if len(str(n)[x:])>1:\n",
    "    #         print(str(number)[x:],'-' ,str(number)[x+1:])\n",
    "    #         print(int(str(number)[x:]), '-', int(str(number)[x+1:]))\n",
    "            digit = int(str(n)[x:])- int(str(n)[x+1:])\n",
    "            print(digit)\n",
    "            if digit > 0:\n",
    "                roman_num+=roman_dict[str(digit)]\n",
    "        else:\n",
    "            digit = str(n)[x:]\n",
    "            print(digit)\n",
    "            if int(digit) > 0:\n",
    "                roman_num+=roman_dict[str(digit)]\n",
    "\n",
    "    return roman_num\n",
    "\n",
    "solution(1990)"
   ]
  },
  {
   "cell_type": "code",
   "execution_count": 47,
   "id": "483564dc",
   "metadata": {},
   "outputs": [
    {
     "name": "stdout",
     "output_type": "stream",
     "text": [
      "2000\n",
      "0\n",
      "0\n",
      "8\n"
     ]
    },
    {
     "data": {
      "text/plain": [
       "'MMVIII'"
      ]
     },
     "execution_count": 47,
     "metadata": {},
     "output_type": "execute_result"
    }
   ],
   "source": [
    "# 2008 is written as 2000=MM, 8=VIII; or MMVIII\n",
    "\n",
    "solution(2008)"
   ]
  },
  {
   "cell_type": "code",
   "execution_count": 48,
   "id": "f6c366ff",
   "metadata": {},
   "outputs": [
    {
     "name": "stdout",
     "output_type": "stream",
     "text": [
      "1000\n",
      "600\n",
      "60\n",
      "6\n"
     ]
    },
    {
     "data": {
      "text/plain": [
       "'MDCLXVI'"
      ]
     },
     "execution_count": 48,
     "metadata": {},
     "output_type": "execute_result"
    }
   ],
   "source": [
    "# 1666 uses each Roman symbol in descending order: MDCLXVI\n",
    "solution(1666)"
   ]
  },
  {
   "cell_type": "code",
   "execution_count": null,
   "id": "2835d751",
   "metadata": {},
   "outputs": [],
   "source": []
  },
  {
   "cell_type": "code",
   "execution_count": null,
   "id": "5f3f0429",
   "metadata": {},
   "outputs": [],
   "source": []
  },
  {
   "cell_type": "code",
   "execution_count": null,
   "id": "077e5a42",
   "metadata": {},
   "outputs": [],
   "source": [
    "# my favourite solution from other coders\n",
    "\n",
    "def solution(n):\n",
    "    return  \" M MM MMM\".split(\" \")[n//1000] + \\\n",
    "            \" C CC CCC CD D DC DCC DCCC CM\".split(\" \")[n//100%10] + \\\n",
    "            \" X XX XXX XL L LX LXX LXXX XC\".split(\" \")[n//10%10] + \\\n",
    "            \" I II III IV V VI VII VIII IX\".split(\" \")[n%10]"
   ]
  },
  {
   "cell_type": "code",
   "execution_count": 5,
   "id": "e79dcb9a",
   "metadata": {},
   "outputs": [
    {
     "data": {
      "text/plain": [
       "'MCMXC'"
      ]
     },
     "execution_count": 5,
     "metadata": {},
     "output_type": "execute_result"
    }
   ],
   "source": [
    "\" M MM MMM\".split(\" \")[1990//1000] + \\\n",
    "\" C CC CCC CD D DC DCC DCCC CM\".split(\" \")[1990//100%10] + \\\n",
    "\" X XX XXX XL L LX LXX LXXX XC\".split(\" \")[1990//10%10] + \\\n",
    "\" I II III IV V VI VII VIII IX\".split(\" \")[1990%10]"
   ]
  },
  {
   "cell_type": "code",
   "execution_count": null,
   "id": "799fec84",
   "metadata": {},
   "outputs": [],
   "source": []
  }
 ],
 "metadata": {
  "kernelspec": {
   "display_name": "Python 3 (ipykernel)",
   "language": "python",
   "name": "python3"
  },
  "language_info": {
   "codemirror_mode": {
    "name": "ipython",
    "version": 3
   },
   "file_extension": ".py",
   "mimetype": "text/x-python",
   "name": "python",
   "nbconvert_exporter": "python",
   "pygments_lexer": "ipython3",
   "version": "3.9.7"
  }
 },
 "nbformat": 4,
 "nbformat_minor": 5
}
