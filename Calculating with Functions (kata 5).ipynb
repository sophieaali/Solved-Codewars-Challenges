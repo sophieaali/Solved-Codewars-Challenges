{
 "cells": [
  {
   "cell_type": "raw",
   "id": "31e5fa59",
   "metadata": {},
   "source": [
    "This time we want to write calculations using functions and get the results. Let's have a look at some examples:\n",
    "\n",
    "seven(times(five())) # must return 35\n",
    "four(plus(nine())) # must return 13\n",
    "eight(minus(three())) # must return 5\n",
    "six(divided_by(two())) # must return 3\n",
    "Requirements:\n",
    "\n",
    "There must be a function for each number from 0 (\"zero\") to 9 (\"nine\")\n",
    "There must be a function for each of the following mathematical operations: plus, minus, times, divided_by\n",
    "Each calculation consist of exactly one operation and two numbers\n",
    "The most outer function represents the left operand, the most inner function represents the right operand\n",
    "Division should be integer division. For example, this should return 2, not 2.666666...:\n",
    "eight(divided_by(three()))"
   ]
  },
  {
   "cell_type": "code",
   "execution_count": 73,
   "id": "e25cf0d7",
   "metadata": {},
   "outputs": [],
   "source": [
    "def seven(op_func=''):\n",
    "    op = '7' + op_func\n",
    "    if len(op) == 3:\n",
    "        return eval(op)\n",
    "    else:\n",
    "        return '7'\n",
    "\n",
    "def times(num_func):\n",
    "    return '*' + num_func\n",
    "\n",
    "def five(op_func=''):\n",
    "    op = '5' + op_func\n",
    "    if len(op) == 3:\n",
    "        return eval(op)\n",
    "    else:\n",
    "        return '5'"
   ]
  },
  {
   "cell_type": "code",
   "execution_count": 77,
   "id": "eef0e7ab",
   "metadata": {},
   "outputs": [
    {
     "data": {
      "text/plain": [
       "35"
      ]
     },
     "execution_count": 77,
     "metadata": {},
     "output_type": "execute_result"
    }
   ],
   "source": [
    "seven(times(five()))"
   ]
  },
  {
   "cell_type": "code",
   "execution_count": 78,
   "id": "2d9f308b",
   "metadata": {},
   "outputs": [
    {
     "data": {
      "text/plain": [
       "35"
      ]
     },
     "execution_count": 78,
     "metadata": {},
     "output_type": "execute_result"
    }
   ],
   "source": [
    "five(times(seven()))"
   ]
  },
  {
   "cell_type": "code",
   "execution_count": 108,
   "id": "0a56b8d6",
   "metadata": {},
   "outputs": [],
   "source": [
    "def zero(op_func=''):\n",
    "    op = '0' + op_func\n",
    "    if len(op) > 2:\n",
    "        return eval(op)\n",
    "    else:\n",
    "        return op\n",
    "\n",
    "def one(op_func=''):\n",
    "    op = '1' + op_func\n",
    "    if len(op)  > 2:\n",
    "        return eval(op)\n",
    "    else:\n",
    "        return op\n",
    "    \n",
    "def two(op_func=''):\n",
    "    op = '2' + op_func\n",
    "    if len(op)  > 2:\n",
    "        return eval(op)\n",
    "    else:\n",
    "        return op\n",
    "    \n",
    "def three(op_func=''):\n",
    "    op = '3' + op_func\n",
    "    if len(op)  > 2:\n",
    "        return eval(op)\n",
    "    else:\n",
    "        return op\n",
    "    \n",
    "def four(op_func=''):\n",
    "    op = '4' + op_func\n",
    "    if len(op)  > 2:\n",
    "        return eval(op)\n",
    "    else:\n",
    "        return op\n",
    "    \n",
    "def five(op_func=''):\n",
    "    op = '5' + op_func\n",
    "    if len(op)  > 2:\n",
    "        return eval(op)\n",
    "    else:\n",
    "        return op\n",
    "    \n",
    "def six(op_func=''):\n",
    "    op = '6' + op_func\n",
    "    if len(op)  > 2:\n",
    "        return eval(op)\n",
    "    else:\n",
    "        return op\n",
    "    \n",
    "def seven(op_func=''):\n",
    "    op = '7' + op_func\n",
    "    if len(op) > 2:\n",
    "        return eval(op)\n",
    "    else:\n",
    "        return op\n",
    "    \n",
    "def eight(op_func=''):\n",
    "    op = '8' + op_func\n",
    "    if len(op) > 2:\n",
    "        return eval(op)\n",
    "    else:\n",
    "        return op\n",
    "     \n",
    "def nine(op_func=''):\n",
    "    op = '9' + op_func\n",
    "    if len(op) > 2:\n",
    "        return eval(op)\n",
    "    else:\n",
    "        return op\n",
    "     \n",
    "\n",
    "def plus(num_func):\n",
    "    return '+' + num_func\n",
    "\n",
    "def minus(num_func):\n",
    "    return '-' + num_func\n",
    "\n",
    "def times(num_func):\n",
    "    return '*' + num_func\n",
    "\n",
    "def divided_by(num_func):\n",
    "    return '//' + num_func\n"
   ]
  },
  {
   "cell_type": "code",
   "execution_count": 103,
   "id": "d41a6733",
   "metadata": {},
   "outputs": [
    {
     "data": {
      "text/plain": [
       "13"
      ]
     },
     "execution_count": 103,
     "metadata": {},
     "output_type": "execute_result"
    }
   ],
   "source": [
    "four(plus(nine()))"
   ]
  },
  {
   "cell_type": "code",
   "execution_count": 104,
   "id": "21027856",
   "metadata": {},
   "outputs": [
    {
     "data": {
      "text/plain": [
       "5"
      ]
     },
     "execution_count": 104,
     "metadata": {},
     "output_type": "execute_result"
    }
   ],
   "source": [
    "eight(minus(three()))"
   ]
  },
  {
   "cell_type": "code",
   "execution_count": 105,
   "id": "a519f4e7",
   "metadata": {},
   "outputs": [
    {
     "data": {
      "text/plain": [
       "3"
      ]
     },
     "execution_count": 105,
     "metadata": {},
     "output_type": "execute_result"
    }
   ],
   "source": [
    "six(divided_by(two()))"
   ]
  },
  {
   "cell_type": "code",
   "execution_count": 109,
   "id": "2bf94a44",
   "metadata": {},
   "outputs": [
    {
     "data": {
      "text/plain": [
       "10"
      ]
     },
     "execution_count": 109,
     "metadata": {},
     "output_type": "execute_result"
    }
   ],
   "source": [
    "nine(plus(one()))"
   ]
  },
  {
   "cell_type": "code",
   "execution_count": null,
   "id": "b5723cda",
   "metadata": {},
   "outputs": [],
   "source": []
  },
  {
   "cell_type": "code",
   "execution_count": null,
   "id": "cad9edbc",
   "metadata": {},
   "outputs": [],
   "source": []
  },
  {
   "cell_type": "code",
   "execution_count": null,
   "id": "3172c0d5",
   "metadata": {},
   "outputs": [],
   "source": []
  },
  {
   "cell_type": "code",
   "execution_count": 112,
   "id": "1cd71111",
   "metadata": {},
   "outputs": [],
   "source": [
    "## my favourite solution from other coders (much cleaner version of mine)\n",
    "\n",
    "def zero(arg=\"\"):  return eval(\"0\" + arg)\n",
    "def one(arg=\"\"):   return eval(\"1\" + arg)\n",
    "def two(arg=\"\"):   return eval(\"2\" + arg)\n",
    "def three(arg=\"\"): return eval(\"3\" + arg)\n",
    "def four(arg=\"\"):  return eval(\"4\" + arg)\n",
    "def five(arg=\"\"):  return eval(\"5\" + arg)\n",
    "def six(arg=\"\"):   return eval(\"6\" + arg)\n",
    "def seven(arg=\"\"): return eval(\"7\" + arg)\n",
    "def eight(arg=\"\"): return eval(\"8\" + arg)\n",
    "def nine(arg=\"\"):  return eval(\"9\" + arg)\n",
    "\n",
    "def plus(n):       return '+' + str(n)\n",
    "def minus(n):      return '-' + str(n)\n",
    "def times(n):      return '*' + str(n)\n",
    "def divided_by(n): return '//' + str(n)"
   ]
  },
  {
   "cell_type": "code",
   "execution_count": 113,
   "id": "069f081e",
   "metadata": {},
   "outputs": [
    {
     "data": {
      "text/plain": [
       "10"
      ]
     },
     "execution_count": 113,
     "metadata": {},
     "output_type": "execute_result"
    }
   ],
   "source": [
    "nine(plus(one()))"
   ]
  },
  {
   "cell_type": "code",
   "execution_count": null,
   "id": "8c20184f",
   "metadata": {},
   "outputs": [],
   "source": []
  }
 ],
 "metadata": {
  "kernelspec": {
   "display_name": "Python 3 (ipykernel)",
   "language": "python",
   "name": "python3"
  },
  "language_info": {
   "codemirror_mode": {
    "name": "ipython",
    "version": 3
   },
   "file_extension": ".py",
   "mimetype": "text/x-python",
   "name": "python",
   "nbconvert_exporter": "python",
   "pygments_lexer": "ipython3",
   "version": "3.9.7"
  }
 },
 "nbformat": 4,
 "nbformat_minor": 5
}
