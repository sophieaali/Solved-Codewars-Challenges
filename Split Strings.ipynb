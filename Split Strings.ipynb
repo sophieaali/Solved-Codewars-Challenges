{
 "cells": [
  {
   "cell_type": "raw",
   "id": "c81dbb30",
   "metadata": {},
   "source": [
    "DESCRIPTION:\n",
    "Complete the solution so that it splits the string into pairs of two characters. If the string contains an odd number of characters then it should replace the missing second character of the final pair with an underscore ('_').\n",
    "\n",
    "Examples:\n",
    "\n",
    "* 'abc' =>  ['ab', 'c_']\n",
    "* 'abcdef' => ['ab', 'cd', 'ef']"
   ]
  },
  {
   "cell_type": "code",
   "execution_count": 95,
   "id": "26c9fccf",
   "metadata": {},
   "outputs": [],
   "source": [
    "s1 = 'abc'\n",
    "s2 = 'abcdefg'\n",
    "s3 = 'abcdef'"
   ]
  },
  {
   "cell_type": "code",
   "execution_count": 92,
   "id": "b8c601c4",
   "metadata": {},
   "outputs": [],
   "source": [
    "def solution(s):\n",
    "    s_list = []\n",
    "    while len(s) > 1:\n",
    "        s, result = s[2:], s[:2]\n",
    "        s_list.append(result)\n",
    "\n",
    "    if len(s) == 1:\n",
    "        s_list.append(s+'_')\n",
    "\n",
    "    return s_list"
   ]
  },
  {
   "cell_type": "code",
   "execution_count": 93,
   "id": "ec2c6f71",
   "metadata": {},
   "outputs": [
    {
     "data": {
      "text/plain": [
       "['ab', 'c_']"
      ]
     },
     "execution_count": 93,
     "metadata": {},
     "output_type": "execute_result"
    }
   ],
   "source": [
    "solution(s1)"
   ]
  },
  {
   "cell_type": "code",
   "execution_count": 94,
   "id": "db148c4d",
   "metadata": {},
   "outputs": [
    {
     "data": {
      "text/plain": [
       "['ab', 'cd', 'ef', 'g_']"
      ]
     },
     "execution_count": 94,
     "metadata": {},
     "output_type": "execute_result"
    }
   ],
   "source": [
    "solution(s2)"
   ]
  },
  {
   "cell_type": "code",
   "execution_count": 96,
   "id": "3e6df256",
   "metadata": {},
   "outputs": [
    {
     "data": {
      "text/plain": [
       "['ab', 'cd', 'ef']"
      ]
     },
     "execution_count": 96,
     "metadata": {},
     "output_type": "execute_result"
    }
   ],
   "source": [
    "solution(s3)"
   ]
  },
  {
   "cell_type": "code",
   "execution_count": 99,
   "id": "68a4b1a1",
   "metadata": {},
   "outputs": [],
   "source": [
    "# my favorite solutions from other coders:\n",
    "\n",
    "def solution(s):\n",
    "    result = []\n",
    "    if len(s) % 2:\n",
    "        s += '_'\n",
    "    for i in range(0, len(s), 2):\n",
    "        result.append(s[i:i+2])\n",
    "    return result"
   ]
  },
  {
   "cell_type": "code",
   "execution_count": 100,
   "id": "86239db0",
   "metadata": {},
   "outputs": [
    {
     "data": {
      "text/plain": [
       "['ab', 'cd', 'ef']"
      ]
     },
     "execution_count": 100,
     "metadata": {},
     "output_type": "execute_result"
    }
   ],
   "source": [
    "solution(s3)"
   ]
  },
  {
   "cell_type": "code",
   "execution_count": null,
   "id": "3ba04bfc",
   "metadata": {},
   "outputs": [],
   "source": []
  }
 ],
 "metadata": {
  "kernelspec": {
   "display_name": "Python 3 (ipykernel)",
   "language": "python",
   "name": "python3"
  },
  "language_info": {
   "codemirror_mode": {
    "name": "ipython",
    "version": 3
   },
   "file_extension": ".py",
   "mimetype": "text/x-python",
   "name": "python",
   "nbconvert_exporter": "python",
   "pygments_lexer": "ipython3",
   "version": "3.9.7"
  }
 },
 "nbformat": 4,
 "nbformat_minor": 5
}
