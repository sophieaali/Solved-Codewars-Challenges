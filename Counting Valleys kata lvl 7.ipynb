{
 "cells": [
  {
   "cell_type": "markdown",
   "id": "4ebb237a",
   "metadata": {},
   "source": [
    "You need count how many valleys you will pass.\n",
    "\n",
    "Start is always from zero level.\n",
    "\n",
    "Every time you go down below 0 level counts as an entry of a valley, and as you go up to 0 level from valley counts as an exit of a valley.\n",
    "\n",
    "One passed valley is equal one entry and one exit of a valley.\n",
    "\n",
    "s='FUFFDDFDUDFUFUF'\n",
    "U=UP\n",
    "F=FORWARD\n",
    "D=DOWN\n",
    "To represent string above\n",
    "\n",
    "(level 1)  __\n",
    "(level 0)_/  \\         _(exit we are again on level 0)\n",
    "(entry-1)     \\_     _/\n",
    "(level-2)       \\/\\_/\n",
    "\n",
    "So here we passed one valley\n",
    "\n",
    "https://www.codewars.com/kata/5da9973d06119a000e604cb6/solutions/python"
   ]
  },
  {
   "cell_type": "code",
   "execution_count": 63,
   "id": "c2ba9ebd",
   "metadata": {},
   "outputs": [],
   "source": [
    "def counting_valleys(s): \n",
    "    level=0\n",
    "    levels = [] # to keep track of level changes\n",
    "\n",
    "    for x in s:\n",
    "        if x == 'F':\n",
    "            # no change in level, don't bother recording\n",
    "            pass\n",
    "        elif x == 'U':\n",
    "            level+=1\n",
    "            levels.append(level)\n",
    "        elif x == 'D':\n",
    "            level-=1\n",
    "            levels.append(level)\n",
    "\n",
    "#     print(levels) # this is the changes in levels for the path\n",
    "\n",
    "    valleys_count = 0\n",
    "    for x in range(len(levels)):\n",
    "        if levels[x] == 0:                  # each 0 signifies the end of a valley or a hill\n",
    "            if levels[x-1] == -1:           # if the level b4 the 0 was -1, it was a valley, otherwise it was a hill so skip\n",
    "                valleys_count += 1\n",
    "    return valleys_count"
   ]
  },
  {
   "cell_type": "code",
   "execution_count": 64,
   "id": "a2502d37",
   "metadata": {},
   "outputs": [
    {
     "data": {
      "text/plain": [
       "1"
      ]
     },
     "execution_count": 64,
     "metadata": {},
     "output_type": "execute_result"
    }
   ],
   "source": [
    "s='FUFFDDFDUDFUFUF'\n",
    "counting_valleys(s)"
   ]
  },
  {
   "cell_type": "code",
   "execution_count": 65,
   "id": "042aab12",
   "metadata": {},
   "outputs": [
    {
     "data": {
      "text/plain": [
       "0"
      ]
     },
     "execution_count": 65,
     "metadata": {},
     "output_type": "execute_result"
    }
   ],
   "source": [
    "s = 'UFFFD'\n",
    "counting_valleys(s)"
   ]
  },
  {
   "cell_type": "code",
   "execution_count": 66,
   "id": "15e3b598",
   "metadata": {},
   "outputs": [
    {
     "data": {
      "text/plain": [
       "1"
      ]
     },
     "execution_count": 66,
     "metadata": {},
     "output_type": "execute_result"
    }
   ],
   "source": [
    "s = 'DFFFU'\n",
    "counting_valleys(s)"
   ]
  },
  {
   "cell_type": "code",
   "execution_count": 67,
   "id": "0ca0a490",
   "metadata": {},
   "outputs": [
    {
     "data": {
      "text/plain": [
       "3"
      ]
     },
     "execution_count": 67,
     "metadata": {},
     "output_type": "execute_result"
    }
   ],
   "source": [
    "s = 'UFFDDFDUDFUFUUFFDDUFFDDUFFDDUDUDUDUDUDUUUUUUUUU'\n",
    "counting_valleys(s)"
   ]
  },
  {
   "cell_type": "code",
   "execution_count": 68,
   "id": "ba720cd1",
   "metadata": {},
   "outputs": [
    {
     "data": {
      "text/plain": [
       "6"
      ]
     },
     "execution_count": 68,
     "metadata": {},
     "output_type": "execute_result"
    }
   ],
   "source": [
    "s = 'UFFDDFDUDFUFUUFFDDFDUDFUFUUFFDDFDUDFUFUUFFDDFDUDFUFUUFFDDFDUDFUFUUFFDDFDUDFUFU'\n",
    "counting_valleys(s)"
   ]
  },
  {
   "cell_type": "code",
   "execution_count": null,
   "id": "315709d6",
   "metadata": {},
   "outputs": [],
   "source": []
  },
  {
   "cell_type": "code",
   "execution_count": null,
   "id": "5d4b4d32",
   "metadata": {},
   "outputs": [],
   "source": []
  },
  {
   "cell_type": "code",
   "execution_count": null,
   "id": "f5861fbd",
   "metadata": {},
   "outputs": [],
   "source": []
  },
  {
   "cell_type": "code",
   "execution_count": null,
   "id": "2fde45e0",
   "metadata": {},
   "outputs": [],
   "source": [
    "# my favourite solution from other coders\n",
    "\n",
    "def counting_valleys(s):\n",
    "    level, valleys = 0, 0\n",
    "    for step in s:\n",
    "        if step == 'U' and level == -1:\n",
    "            valleys += 1\n",
    "        level += {'U': 1, 'F': 0, 'D': -1}[step]\n",
    "\n",
    "    return valleys"
   ]
  },
  {
   "cell_type": "code",
   "execution_count": 69,
   "id": "397d6be9",
   "metadata": {},
   "outputs": [
    {
     "name": "stdout",
     "output_type": "stream",
     "text": [
      "1\n",
      "1\n",
      "1\n",
      "0\n",
      "-1\n",
      "-1\n",
      "-2\n",
      "-1\n",
      "-2\n",
      "-2\n",
      "-1\n",
      "-1\n",
      "0\n",
      "1\n",
      "1\n",
      "1\n",
      "0\n",
      "-1\n",
      "0\n",
      "0\n",
      "0\n",
      "-1\n",
      "-2\n",
      "-1\n",
      "-1\n",
      "-1\n",
      "-2\n",
      "-3\n",
      "-2\n",
      "-3\n",
      "-2\n",
      "-3\n",
      "-2\n",
      "-3\n",
      "-2\n",
      "-3\n",
      "-2\n",
      "-3\n",
      "-2\n",
      "-1\n",
      "0\n",
      "1\n",
      "2\n",
      "3\n",
      "4\n",
      "5\n",
      "6\n"
     ]
    }
   ],
   "source": [
    "s = 'UFFDDFDUDFUFUUFFDDUFFDDUFFDDUDUDUDUDUDUUUUUUUUU'\n",
    "level, valleys = 0, 0\n",
    "for step in s:\n",
    "    level += {'U': 1, 'F': 0, 'D': -1}[step]\n",
    "    print(level)"
   ]
  },
  {
   "cell_type": "code",
   "execution_count": null,
   "id": "0052002c",
   "metadata": {},
   "outputs": [],
   "source": []
  }
 ],
 "metadata": {
  "kernelspec": {
   "display_name": "Python 3 (ipykernel)",
   "language": "python",
   "name": "python3"
  },
  "language_info": {
   "codemirror_mode": {
    "name": "ipython",
    "version": 3
   },
   "file_extension": ".py",
   "mimetype": "text/x-python",
   "name": "python",
   "nbconvert_exporter": "python",
   "pygments_lexer": "ipython3",
   "version": "3.9.7"
  }
 },
 "nbformat": 4,
 "nbformat_minor": 5
}
