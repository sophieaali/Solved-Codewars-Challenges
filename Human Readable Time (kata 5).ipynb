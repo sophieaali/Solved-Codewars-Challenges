{
 "cells": [
  {
   "cell_type": "markdown",
   "id": "219ab55d",
   "metadata": {},
   "source": [
    "Write a function, which takes a non-negative integer (seconds) as input and returns the time in a human-readable format (HH:MM:SS)\n",
    "\n",
    "HH = hours, padded to 2 digits, range: 00 - 99\n",
    "\n",
    "MM = minutes, padded to 2 digits, range: 00 - 59\n",
    "\n",
    "SS = seconds, padded to 2 digits, range: 00 - 59\n",
    "\n",
    "The maximum time never exceeds 359999 (99:59:59)\n",
    "\n",
    "https://www.codewars.com/kata/52685f7382004e774f0001f7/python"
   ]
  },
  {
   "cell_type": "raw",
   "id": "03dbb8de",
   "metadata": {},
   "source": [
    "test.assert_equals(make_readable(0), \"00:00:00\")\n",
    "test.assert_equals(make_readable(5), \"00:00:05\")\n",
    "test.assert_equals(make_readable(60), \"00:01:00\")\n",
    "test.assert_equals(make_readable(86399), \"23:59:59\")\n",
    "test.assert_equals(make_readable(359999), \"99:59:59\")"
   ]
  },
  {
   "cell_type": "code",
   "execution_count": 32,
   "id": "b98bd8e9",
   "metadata": {},
   "outputs": [],
   "source": [
    "def make_readable(seconds):\n",
    "    h = seconds//3600\n",
    "    m = seconds%3600//60\n",
    "    s = seconds%60\n",
    "\n",
    "    return '%02d:%02d:%02d'% (h, m, s)"
   ]
  },
  {
   "cell_type": "code",
   "execution_count": 33,
   "id": "df864478",
   "metadata": {},
   "outputs": [
    {
     "data": {
      "text/plain": [
       "'99:59:59'"
      ]
     },
     "execution_count": 33,
     "metadata": {},
     "output_type": "execute_result"
    }
   ],
   "source": [
    "make_readable(359999)"
   ]
  },
  {
   "cell_type": "code",
   "execution_count": 34,
   "id": "9858c00f",
   "metadata": {},
   "outputs": [
    {
     "data": {
      "text/plain": [
       "'23:59:59'"
      ]
     },
     "execution_count": 34,
     "metadata": {},
     "output_type": "execute_result"
    }
   ],
   "source": [
    "make_readable(86399)"
   ]
  },
  {
   "cell_type": "code",
   "execution_count": 35,
   "id": "2d47bd7f",
   "metadata": {},
   "outputs": [
    {
     "data": {
      "text/plain": [
       "'00:00:00'"
      ]
     },
     "execution_count": 35,
     "metadata": {},
     "output_type": "execute_result"
    }
   ],
   "source": [
    "make_readable(0)"
   ]
  },
  {
   "cell_type": "code",
   "execution_count": null,
   "id": "611b1a30",
   "metadata": {},
   "outputs": [],
   "source": []
  },
  {
   "cell_type": "code",
   "execution_count": null,
   "id": "c0764e7e",
   "metadata": {},
   "outputs": [],
   "source": []
  },
  {
   "cell_type": "code",
   "execution_count": null,
   "id": "3dd8336b",
   "metadata": {},
   "outputs": [],
   "source": []
  },
  {
   "cell_type": "code",
   "execution_count": 61,
   "id": "0d3b5456",
   "metadata": {},
   "outputs": [],
   "source": [
    "# my favourite solution from other coders\n",
    "\n",
    "def make_readable(s):\n",
    "    return '{:0>2d}:{:0>2d}:{:0>2d}'.format(int(s/3600), int(s/60%60), s%60)"
   ]
  },
  {
   "cell_type": "code",
   "execution_count": 62,
   "id": "8d914d5c",
   "metadata": {},
   "outputs": [
    {
     "data": {
      "text/plain": [
       "'99:59:59'"
      ]
     },
     "execution_count": 62,
     "metadata": {},
     "output_type": "execute_result"
    }
   ],
   "source": [
    "make_readable(359999)"
   ]
  },
  {
   "cell_type": "code",
   "execution_count": 58,
   "id": "ed071876",
   "metadata": {},
   "outputs": [
    {
     "name": "stdout",
     "output_type": "stream",
     "text": [
      "99:59:59\n"
     ]
    }
   ],
   "source": [
    "s = 359999\n",
    "print('{:0>2d}:{:0>2d}:{:0>2d}'.format(int(s/3600), int(s/60%60), s%60))"
   ]
  },
  {
   "cell_type": "code",
   "execution_count": 57,
   "id": "c1a22b0d",
   "metadata": {},
   "outputs": [
    {
     "name": "stdout",
     "output_type": "stream",
     "text": [
      "00:00:00\n"
     ]
    }
   ],
   "source": [
    "s = 0\n",
    "print('{:0>2d}:{:0>2d}:{:0>2d}'.format(int(s/3600), int(s/60%60), s%60))"
   ]
  },
  {
   "cell_type": "code",
   "execution_count": null,
   "id": "bd264666",
   "metadata": {},
   "outputs": [],
   "source": []
  }
 ],
 "metadata": {
  "kernelspec": {
   "display_name": "Python 3 (ipykernel)",
   "language": "python",
   "name": "python3"
  },
  "language_info": {
   "codemirror_mode": {
    "name": "ipython",
    "version": 3
   },
   "file_extension": ".py",
   "mimetype": "text/x-python",
   "name": "python",
   "nbconvert_exporter": "python",
   "pygments_lexer": "ipython3",
   "version": "3.9.7"
  }
 },
 "nbformat": 4,
 "nbformat_minor": 5
}
