{
 "cells": [
  {
   "cell_type": "raw",
   "id": "8f3d98d9",
   "metadata": {},
   "source": [
    "You are given an array(list) strarr of strings and an integer k. Your task is to return the first longest string consisting of k consecutive strings taken in the array.\n",
    "\n",
    "Examples:\n",
    "strarr = [\"tree\", \"foling\", \"trashy\", \"blue\", \"abcdef\", \"uvwxyz\"], k = 2\n",
    "\n",
    "Concatenate the consecutive strings of strarr by 2, we get:\n",
    "\n",
    "treefoling   (length 10)  concatenation of strarr[0] and strarr[1]\n",
    "folingtrashy (\"      12)  concatenation of strarr[1] and strarr[2]\n",
    "trashyblue   (\"      10)  concatenation of strarr[2] and strarr[3]\n",
    "blueabcdef   (\"      10)  concatenation of strarr[3] and strarr[4]\n",
    "abcdefuvwxyz (\"      12)  concatenation of strarr[4] and strarr[5]\n",
    "\n",
    "Two strings are the longest: \"folingtrashy\" and \"abcdefuvwxyz\".\n",
    "The first that came is \"folingtrashy\" so \n",
    "longest_consec(strarr, 2) should return \"folingtrashy\".\n",
    "\n",
    "In the same way:\n",
    "longest_consec([\"zone\", \"abigail\", \"theta\", \"form\", \"libe\", \"zas\", \"theta\", \"abigail\"], 2) --> \"abigailtheta\"\n",
    "n being the length of the string array, if n = 0 or k > n or k <= 0 return \"\" (return Nothing in Elm, \"nothing\" in Erlang).\n",
    "\n",
    "Note:\n",
    "consecutive strings : follow one after another without an interruption"
   ]
  },
  {
   "cell_type": "code",
   "execution_count": null,
   "id": "1d4fc701",
   "metadata": {},
   "outputs": [],
   "source": [
    "# https://www.codewars.com/kata/56a5d994ac971f1ac500003e/python\n",
    "# kata level 6"
   ]
  },
  {
   "cell_type": "code",
   "execution_count": 1,
   "id": "b63eb684",
   "metadata": {},
   "outputs": [],
   "source": [
    "strarr = [\"tree\", \"foling\", \"trashy\", \"blue\", \"abcdef\", \"uvwxyz\"]"
   ]
  },
  {
   "cell_type": "code",
   "execution_count": 2,
   "id": "69d46898",
   "metadata": {},
   "outputs": [],
   "source": [
    "def longest_consec(strarr, k):\n",
    "    longest_group = ['', 0]\n",
    "    if len(strarr) == 0:\n",
    "        return longest_group[0]\n",
    "    elif k > len(strarr):\n",
    "        return longest_group[0]\n",
    "    elif k <= 0:\n",
    "        return longest_group[0]\n",
    "    else:\n",
    "        for x in range(0, len(strarr)-(k-1)):\n",
    "            word = ''\n",
    "            words = strarr[x:x+k]\n",
    "            for w in words:\n",
    "                word += w\n",
    "#             print(word, len(word))\n",
    "            if len(word) > longest_group[1]:\n",
    "                longest_group = [word, len(word)]\n",
    "        return longest_group[0]"
   ]
  },
  {
   "cell_type": "code",
   "execution_count": 3,
   "id": "3be7d1fe",
   "metadata": {},
   "outputs": [
    {
     "data": {
      "text/plain": [
       "'folingtrashy'"
      ]
     },
     "execution_count": 3,
     "metadata": {},
     "output_type": "execute_result"
    }
   ],
   "source": [
    "longest_consec(strarr, 2)"
   ]
  },
  {
   "cell_type": "code",
   "execution_count": null,
   "id": "82b13b2c",
   "metadata": {},
   "outputs": [],
   "source": []
  },
  {
   "cell_type": "code",
   "execution_count": null,
   "id": "99b52b46",
   "metadata": {},
   "outputs": [],
   "source": []
  },
  {
   "cell_type": "code",
   "execution_count": 4,
   "id": "84433209",
   "metadata": {},
   "outputs": [],
   "source": [
    "# my favorite solutions from other coders\n",
    "\n",
    "def longest_consec(strarr, k):\n",
    "    result = \"\"\n",
    "    \n",
    "    if k > 0 and len(strarr) >= k:\n",
    "        for index in range(len(strarr) - k + 1):\n",
    "            s = ''.join(strarr[index:index+k])\n",
    "            if len(s) > len(result):\n",
    "                result = s\n",
    "            \n",
    "    return result"
   ]
  },
  {
   "cell_type": "code",
   "execution_count": 5,
   "id": "59f905b9",
   "metadata": {},
   "outputs": [
    {
     "data": {
      "text/plain": [
       "'folingtrashy'"
      ]
     },
     "execution_count": 5,
     "metadata": {},
     "output_type": "execute_result"
    }
   ],
   "source": [
    "longest_consec(strarr, 2)"
   ]
  },
  {
   "cell_type": "code",
   "execution_count": 6,
   "id": "8c170cdd",
   "metadata": {},
   "outputs": [
    {
     "data": {
      "text/plain": [
       "'folingtrashy'"
      ]
     },
     "execution_count": 6,
     "metadata": {},
     "output_type": "execute_result"
    }
   ],
   "source": [
    "k=2\n",
    "result = \"\"\n",
    "if k < len(strarr) and k > 0:\n",
    "    for i in range(len(strarr) - k + 1):\n",
    "        group = ''.join(strarr[i:i+k])\n",
    "        if len(group)>len(result):\n",
    "            result = group\n",
    "            \n",
    "result"
   ]
  },
  {
   "cell_type": "code",
   "execution_count": null,
   "id": "d40970f2",
   "metadata": {},
   "outputs": [],
   "source": []
  }
 ],
 "metadata": {
  "kernelspec": {
   "display_name": "Python 3 (ipykernel)",
   "language": "python",
   "name": "python3"
  },
  "language_info": {
   "codemirror_mode": {
    "name": "ipython",
    "version": 3
   },
   "file_extension": ".py",
   "mimetype": "text/x-python",
   "name": "python",
   "nbconvert_exporter": "python",
   "pygments_lexer": "ipython3",
   "version": "3.9.7"
  }
 },
 "nbformat": 4,
 "nbformat_minor": 5
}
