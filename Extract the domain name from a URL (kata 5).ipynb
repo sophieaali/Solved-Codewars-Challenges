{
 "cells": [
  {
   "cell_type": "markdown",
   "id": "73c45259",
   "metadata": {},
   "source": [
    "Write a function that when given a URL as a string, parses out just the domain name and returns it as a string. For example:\n",
    "\n",
    "* url = \"http://github.com/carbonfive/raygun\" -> domain name = \"github\"\n",
    "* url = \"http://www.zombie-bites.com\"         -> domain name = \"zombie-bites\"\n",
    "* url = \"https://www.cnet.com\"                -> domain name = cnet\"\n",
    "\n",
    "https://www.codewars.com/kata/514a024011ea4fb54200004b/train/python"
   ]
  },
  {
   "cell_type": "code",
   "execution_count": 134,
   "id": "4911708c",
   "metadata": {},
   "outputs": [],
   "source": [
    "import re\n",
    "\n",
    "def domain_name(url):\n",
    "    url = re.sub('w{3}\\.', '', url)\n",
    "    url = re.sub('https?://', '', url)\n",
    "    url = re.sub('\\..*', '', url)\n",
    "    return url"
   ]
  },
  {
   "cell_type": "code",
   "execution_count": 135,
   "id": "f512b9c2",
   "metadata": {},
   "outputs": [
    {
     "data": {
      "text/plain": [
       "'github'"
      ]
     },
     "execution_count": 135,
     "metadata": {},
     "output_type": "execute_result"
    }
   ],
   "source": [
    "url = \"http://github.com/carbonfive/raygun\" # -> domain name = \"github\"\n",
    "domain_name(url)"
   ]
  },
  {
   "cell_type": "code",
   "execution_count": 136,
   "id": "5c69b360",
   "metadata": {},
   "outputs": [
    {
     "data": {
      "text/plain": [
       "'zombie-bites'"
      ]
     },
     "execution_count": 136,
     "metadata": {},
     "output_type": "execute_result"
    }
   ],
   "source": [
    "url = \"http://www.zombie-bites.com\" # -> domain name = \"zombie-bites\"\n",
    "domain_name(url)"
   ]
  },
  {
   "cell_type": "code",
   "execution_count": 137,
   "id": "dc132b63",
   "metadata": {},
   "outputs": [
    {
     "data": {
      "text/plain": [
       "'cnet'"
      ]
     },
     "execution_count": 137,
     "metadata": {},
     "output_type": "execute_result"
    }
   ],
   "source": [
    "url = \"https://www.cnet.com\" # -> domain name = cnet\"\n",
    "domain_name(url)"
   ]
  },
  {
   "cell_type": "code",
   "execution_count": 138,
   "id": "98612f97",
   "metadata": {},
   "outputs": [
    {
     "name": "stdout",
     "output_type": "stream",
     "text": [
      "google\n",
      "google\n",
      "xakep\n",
      "youtube\n"
     ]
    }
   ],
   "source": [
    "url = \"http://google.com\" # \"google\"\n",
    "print(domain_name(url))\n",
    "url = \"http://google.co.jp\" # \"google\"\n",
    "print(domain_name(url))\n",
    "url = \"www.xakep.ru\" # \"xakep\"\n",
    "print(domain_name(url))\n",
    "url = \"https://youtube.com\" # \"youtube\"\n",
    "print(domain_name(url))"
   ]
  },
  {
   "cell_type": "code",
   "execution_count": null,
   "id": "4c4ca14e",
   "metadata": {},
   "outputs": [],
   "source": []
  },
  {
   "cell_type": "code",
   "execution_count": 151,
   "id": "a9eb6c0c",
   "metadata": {},
   "outputs": [],
   "source": [
    "# my favorite solution from other coders:\n",
    "\n",
    "import re\n",
    "def domain_name(url):\n",
    "    return re.search('(https?://)?(www\\d?\\.)?(?P<name>[\\w-]+)\\.', url).group('name')"
   ]
  },
  {
   "cell_type": "code",
   "execution_count": 152,
   "id": "7fa7ec9c",
   "metadata": {},
   "outputs": [
    {
     "data": {
      "text/plain": [
       "'cnet'"
      ]
     },
     "execution_count": 152,
     "metadata": {},
     "output_type": "execute_result"
    }
   ],
   "source": [
    "url = \"https://www.cnet.com\" # -> domain name = cnet\"\n",
    "re.search('(https?://)?(www\\d?\\.)?(?P<name>[\\w-]+)\\.', url).group('name')"
   ]
  },
  {
   "cell_type": "code",
   "execution_count": null,
   "id": "0957423f",
   "metadata": {},
   "outputs": [],
   "source": []
  }
 ],
 "metadata": {
  "kernelspec": {
   "display_name": "Python 3 (ipykernel)",
   "language": "python",
   "name": "python3"
  },
  "language_info": {
   "codemirror_mode": {
    "name": "ipython",
    "version": 3
   },
   "file_extension": ".py",
   "mimetype": "text/x-python",
   "name": "python",
   "nbconvert_exporter": "python",
   "pygments_lexer": "ipython3",
   "version": "3.9.7"
  }
 },
 "nbformat": 4,
 "nbformat_minor": 5
}
