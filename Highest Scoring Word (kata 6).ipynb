{
 "cells": [
  {
   "cell_type": "markdown",
   "id": "5ad7faa5",
   "metadata": {},
   "source": [
    "Given a string of words, you need to find the highest scoring word.\n",
    "\n",
    "Each letter of a word scores points according to its position in the alphabet: a = 1, b = 2, c = 3 etc.\n",
    "\n",
    "You need to return the highest scoring word as a string.\n",
    "\n",
    "If two words score the same, return the word that appears earliest in the original string.\n",
    "\n",
    "All letters will be lowercase and all inputs will be valid.\n",
    "\n",
    "https://www.codewars.com/kata/57eb8fcdf670e99d9b000272/python"
   ]
  },
  {
   "cell_type": "code",
   "execution_count": 2,
   "id": "15665892",
   "metadata": {},
   "outputs": [],
   "source": [
    "\n",
    "\n"
   ]
  },
  {
   "cell_type": "code",
   "execution_count": 3,
   "id": "a03b0c54",
   "metadata": {},
   "outputs": [],
   "source": [
    "string = 'man i need a taxi up to ubud'"
   ]
  },
  {
   "cell_type": "code",
   "execution_count": 14,
   "id": "1bcb6acb",
   "metadata": {},
   "outputs": [],
   "source": [
    "def high(x):\n",
    "    points_dict = {'a':1, \n",
    "                   'b':2,\n",
    "                   'c':3,\n",
    "                   'd':4,\n",
    "                   'e':5,\n",
    "                   'f':6,\n",
    "                   'g':7,\n",
    "                   'h':8,\n",
    "                   'i':9,\n",
    "                   'j':10,\n",
    "                   'k':11,\n",
    "                   'l':12,\n",
    "                   'm':13,\n",
    "                   'n':14,\n",
    "                   'o':15,\n",
    "                   'p':16,\n",
    "                   'q':17,\n",
    "                   'r':18,\n",
    "                   's':19,\n",
    "                   't':20,\n",
    "                   'u':21,\n",
    "                   'v':22,\n",
    "                   'w':23,\n",
    "                   'x':24,\n",
    "                   'y':25,\n",
    "                   'z':26}\n",
    "    \n",
    "    highest_scoring_word = ''\n",
    "    highest_scoring_words_points = 0\n",
    "\n",
    "    for word in x.split():\n",
    "        print(word)\n",
    "        word_points = 0\n",
    "        for letter in word:\n",
    "            word_points += points_dict[letter]\n",
    "        if word_points > highest_scoring_words_points:\n",
    "            highest_scoring_word = word\n",
    "            highest_scoring_words_points = word_points\n",
    "    print('The highest scoring word is:')\n",
    "    return highest_scoring_word"
   ]
  },
  {
   "cell_type": "code",
   "execution_count": 15,
   "id": "eaef93d6",
   "metadata": {},
   "outputs": [
    {
     "name": "stdout",
     "output_type": "stream",
     "text": [
      "what\n",
      "52\n",
      "time\n",
      "47\n",
      "are\n",
      "24\n",
      "we\n",
      "28\n",
      "climbing\n",
      "69\n",
      "up\n",
      "37\n",
      "the\n",
      "33\n",
      "volcano\n",
      "82\n",
      "The highest scoring word is:\n"
     ]
    },
    {
     "data": {
      "text/plain": [
       "'volcano'"
      ]
     },
     "execution_count": 15,
     "metadata": {},
     "output_type": "execute_result"
    }
   ],
   "source": [
    "high('what time are we climbing up the volcano')"
   ]
  },
  {
   "cell_type": "code",
   "execution_count": null,
   "id": "576aed8d",
   "metadata": {},
   "outputs": [],
   "source": []
  },
  {
   "cell_type": "code",
   "execution_count": null,
   "id": "ccc14bd0",
   "metadata": {},
   "outputs": [],
   "source": []
  },
  {
   "cell_type": "code",
   "execution_count": 19,
   "id": "53e45125",
   "metadata": {},
   "outputs": [],
   "source": [
    "# my favourite solution from other coders\n",
    "def high(x):\n",
    "    return max(x.split(), key=lambda k: sum(ord(c) - 96 for c in k))"
   ]
  },
  {
   "cell_type": "code",
   "execution_count": 27,
   "id": "1f519b36",
   "metadata": {},
   "outputs": [
    {
     "name": "stdout",
     "output_type": "stream",
     "text": [
      "97\n",
      "1\n",
      "98\n",
      "2\n"
     ]
    }
   ],
   "source": [
    "print(ord('a'))\n",
    "print(ord('a') - 96)\n",
    "\n",
    "print(ord('b'))\n",
    "print(ord('b') - 96)"
   ]
  },
  {
   "cell_type": "code",
   "execution_count": 22,
   "id": "e7bd09f4",
   "metadata": {},
   "outputs": [
    {
     "data": {
      "text/plain": [
       "'volcano'"
      ]
     },
     "execution_count": 22,
     "metadata": {},
     "output_type": "execute_result"
    }
   ],
   "source": [
    "max('what time are we climbing up the volcano'.split(), key=lambda k: sum(ord(c) - 96 for c in k))"
   ]
  },
  {
   "cell_type": "code",
   "execution_count": null,
   "id": "a38665d2",
   "metadata": {},
   "outputs": [],
   "source": []
  }
 ],
 "metadata": {
  "kernelspec": {
   "display_name": "Python 3 (ipykernel)",
   "language": "python",
   "name": "python3"
  },
  "language_info": {
   "codemirror_mode": {
    "name": "ipython",
    "version": 3
   },
   "file_extension": ".py",
   "mimetype": "text/x-python",
   "name": "python",
   "nbconvert_exporter": "python",
   "pygments_lexer": "ipython3",
   "version": "3.9.7"
  }
 },
 "nbformat": 4,
 "nbformat_minor": 5
}
