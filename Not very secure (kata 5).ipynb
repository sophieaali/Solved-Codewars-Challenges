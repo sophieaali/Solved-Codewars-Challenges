{
 "cells": [
  {
   "cell_type": "markdown",
   "id": "f50ecc80",
   "metadata": {},
   "source": [
    "https://www.codewars.com/kata/526dbd6c8c0eb53254000110/train/python"
   ]
  },
  {
   "cell_type": "code",
   "execution_count": 8,
   "id": "5bd9b133",
   "metadata": {},
   "outputs": [],
   "source": [
    "import re"
   ]
  },
  {
   "cell_type": "code",
   "execution_count": 10,
   "id": "b736d66f",
   "metadata": {},
   "outputs": [],
   "source": [
    "def alphanumeric(password):\n",
    "    import re\n",
    "    try:\n",
    "        return re.match('^[a-zA-Z0-9]+$', password).group() == password\n",
    "    except:\n",
    "        return False"
   ]
  },
  {
   "cell_type": "code",
   "execution_count": 11,
   "id": "7f7e7cbf",
   "metadata": {},
   "outputs": [
    {
     "data": {
      "text/plain": [
       "True"
      ]
     },
     "execution_count": 11,
     "metadata": {},
     "output_type": "execute_result"
    }
   ],
   "source": [
    "alphanumeric(\"PassW0rd\")"
   ]
  },
  {
   "cell_type": "code",
   "execution_count": 12,
   "id": "70a81aa3",
   "metadata": {},
   "outputs": [
    {
     "data": {
      "text/plain": [
       "False"
      ]
     },
     "execution_count": 12,
     "metadata": {},
     "output_type": "execute_result"
    }
   ],
   "source": [
    "alphanumeric(\"hello world_\")"
   ]
  },
  {
   "cell_type": "code",
   "execution_count": null,
   "id": "3b4f53b4",
   "metadata": {},
   "outputs": [],
   "source": []
  },
  {
   "cell_type": "code",
   "execution_count": null,
   "id": "16a324e9",
   "metadata": {},
   "outputs": [],
   "source": []
  },
  {
   "cell_type": "code",
   "execution_count": null,
   "id": "45abd9b3",
   "metadata": {},
   "outputs": [],
   "source": []
  },
  {
   "cell_type": "code",
   "execution_count": null,
   "id": "58b48933",
   "metadata": {},
   "outputs": [],
   "source": [
    "# my favorite solution from other coders\n",
    "\n",
    "def alphanumeric(string):\n",
    "    return string.isalnum()"
   ]
  },
  {
   "cell_type": "code",
   "execution_count": 13,
   "id": "bd336bfd",
   "metadata": {},
   "outputs": [
    {
     "data": {
      "text/plain": [
       "True"
      ]
     },
     "execution_count": 13,
     "metadata": {},
     "output_type": "execute_result"
    }
   ],
   "source": [
    "\"PassW0rd\".isalnum()"
   ]
  },
  {
   "cell_type": "code",
   "execution_count": 14,
   "id": "c351dbb3",
   "metadata": {},
   "outputs": [
    {
     "data": {
      "text/plain": [
       "False"
      ]
     },
     "execution_count": 14,
     "metadata": {},
     "output_type": "execute_result"
    }
   ],
   "source": [
    "\"hello world_\".isalnum()"
   ]
  },
  {
   "cell_type": "code",
   "execution_count": null,
   "id": "e78f32ff",
   "metadata": {},
   "outputs": [],
   "source": []
  }
 ],
 "metadata": {
  "kernelspec": {
   "display_name": "Python 3 (ipykernel)",
   "language": "python",
   "name": "python3"
  },
  "language_info": {
   "codemirror_mode": {
    "name": "ipython",
    "version": 3
   },
   "file_extension": ".py",
   "mimetype": "text/x-python",
   "name": "python",
   "nbconvert_exporter": "python",
   "pygments_lexer": "ipython3",
   "version": "3.9.7"
  }
 },
 "nbformat": 4,
 "nbformat_minor": 5
}
