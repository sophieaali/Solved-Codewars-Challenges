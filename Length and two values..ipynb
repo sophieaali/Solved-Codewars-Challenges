{
 "cells": [
  {
   "cell_type": "markdown",
   "id": "6bbcd283",
   "metadata": {},
   "source": [
    "Given a number n and two values firstValue and secondValue, build an array of size n filled with firstValue and secondValue alternating.\n",
    "\n",
    "for input:                5, true, false :\n",
    "\n",
    "expected result would be: [true, false, true, false, true]"
   ]
  },
  {
   "cell_type": "code",
   "execution_count": 8,
   "id": "72d1392b",
   "metadata": {},
   "outputs": [],
   "source": [
    "def alternate(n, first_value, second_value):\n",
    "    alternate_list = []\n",
    "    while len(alternate_list) < n:\n",
    "        if len(alternate_list) < n:\n",
    "            alternate_list.append(first_value)\n",
    "            if len(alternate_list) < n:\n",
    "                alternate_list.append(second_value)\n",
    "    return alternate_list"
   ]
  },
  {
   "cell_type": "code",
   "execution_count": 9,
   "id": "9fdde8db",
   "metadata": {},
   "outputs": [
    {
     "data": {
      "text/plain": [
       "['true', 'false', 'true', 'false', 'true']"
      ]
     },
     "execution_count": 9,
     "metadata": {},
     "output_type": "execute_result"
    }
   ],
   "source": [
    "alternate(5, 'true', 'false')"
   ]
  }
 ],
 "metadata": {
  "kernelspec": {
   "display_name": "Python 3 (ipykernel)",
   "language": "python",
   "name": "python3"
  },
  "language_info": {
   "codemirror_mode": {
    "name": "ipython",
    "version": 3
   },
   "file_extension": ".py",
   "mimetype": "text/x-python",
   "name": "python",
   "nbconvert_exporter": "python",
   "pygments_lexer": "ipython3",
   "version": "3.9.7"
  }
 },
 "nbformat": 4,
 "nbformat_minor": 5
}
